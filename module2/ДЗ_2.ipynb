{
  "nbformat": 4,
  "nbformat_minor": 0,
  "metadata": {
    "colab": {
      "provenance": [],
      "toc_visible": true,
      "include_colab_link": true
    },
    "kernelspec": {
      "name": "python3",
      "display_name": "Python 3"
    },
    "language_info": {
      "name": "python"
    }
  },
  "cells": [
    {
      "cell_type": "markdown",
      "metadata": {
        "id": "view-in-github",
        "colab_type": "text"
      },
      "source": [
        "<a href=\"https://colab.research.google.com/github/YarkoMarko/Numpy_DZ/blob/main/module2/%D0%94%D0%97_2.ipynb\" target=\"_parent\"><img src=\"https://colab.research.google.com/assets/colab-badge.svg\" alt=\"Open In Colab\"/></a>"
      ]
    },
    {
      "cell_type": "markdown",
      "source": [
        "Імпортуйте модуль numpy"
      ],
      "metadata": {
        "id": "tk2sNnUDkXK9"
      }
    },
    {
      "cell_type": "code",
      "source": [
        "import numpy as np"
      ],
      "metadata": {
        "id": "1QbCsQ62kUmZ"
      },
      "execution_count": null,
      "outputs": []
    },
    {
      "cell_type": "markdown",
      "source": [
        "#Завдання 1\n",
        "\n",
        "Створіть масив з парними числами між 30 і 70"
      ],
      "metadata": {
        "id": "ZVC4Yb3JZFO1"
      }
    },
    {
      "cell_type": "code",
      "source": [
        "a = np.array([i for i in range(30, 71, 2)])\n",
        "print(a)"
      ],
      "metadata": {
        "id": "aunm4Jm_hUkL",
        "outputId": "cd446233-b1e9-4aa7-bcea-b3c157334e93",
        "colab": {
          "base_uri": "https://localhost:8080/"
        }
      },
      "execution_count": 98,
      "outputs": [
        {
          "output_type": "stream",
          "name": "stdout",
          "text": [
            "[30 32 34 36 38 40 42 44 46 48 50 52 54 56 58 60 62 64 66 68 70]\n"
          ]
        }
      ]
    },
    {
      "cell_type": "markdown",
      "source": [
        "#Завдання 2\n",
        "Створіть масив з 10 числами між 0(включно) та 1(не включно) див документацію"
      ],
      "metadata": {
        "id": "UDSLr3f0b31r"
      }
    },
    {
      "cell_type": "code",
      "source": [
        "b = np.array([i for i in np.arange(0, 1, 0.1)])\n",
        "b"
      ],
      "metadata": {
        "id": "w7iNkGd_hUM-",
        "outputId": "76f979ba-9787-4863-87da-ebd155692f9c",
        "colab": {
          "base_uri": "https://localhost:8080/"
        }
      },
      "execution_count": 100,
      "outputs": [
        {
          "output_type": "execute_result",
          "data": {
            "text/plain": [
              "array([0. , 0.1, 0.2, 0.3, 0.4, 0.5, 0.6, 0.7, 0.8, 0.9])"
            ]
          },
          "metadata": {},
          "execution_count": 100
        }
      ]
    },
    {
      "cell_type": "markdown",
      "source": [
        "#Завдання 4\n",
        "Напишіть функцію яка приймає матрицю розміру nxn та повертає матрицю розміру (n+2) x (n+2), на краях якої розміщенні 0."
      ],
      "metadata": {
        "id": "rtWKmLWhYi_j"
      }
    },
    {
      "cell_type": "code",
      "source": [
        "def func(c):\n",
        "  d = np.zeros((len(c) + 2, len(c) + 2))\n",
        "  for i in range(len(d)):\n",
        "    if i != 0 and i != len(d) - 1:\n",
        "      seq = []\n",
        "      for j in range(len(c) + 2):\n",
        "        if j != 0 and j != len(c) + 1:\n",
        "          seq.append(c[i - 1][j - 1])\n",
        "\n",
        "        else:\n",
        "          seq.append(0)\n",
        "\n",
        "      d[i] = np.array(seq)\n",
        "\n",
        "  return d\n",
        "\n",
        "\n",
        "c = np.array([[1, 2], [3, 4]])\n",
        "\n",
        "print(func(c))"
      ],
      "metadata": {
        "id": "mU7vjsnqhVfk",
        "colab": {
          "base_uri": "https://localhost:8080/"
        },
        "outputId": "fe3c4033-a296-4af5-fa86-85f02cd8afd8"
      },
      "execution_count": 103,
      "outputs": [
        {
          "output_type": "stream",
          "name": "stdout",
          "text": [
            "[[0. 0. 0. 0.]\n",
            " [0. 1. 2. 0.]\n",
            " [0. 3. 4. 0.]\n",
            " [0. 0. 0. 0.]]\n"
          ]
        }
      ]
    },
    {
      "cell_type": "markdown",
      "source": [
        "#Завдання 5\n",
        "У попередьньому масиві змініть тип даних. Виведіть тип даних до та після зміни"
      ],
      "metadata": {
        "id": "ok_hMAEJa9oh"
      }
    },
    {
      "cell_type": "code",
      "source": [
        "print(c.dtype)\n",
        "c.dtype = np.float64\n",
        "print(c.dtype)"
      ],
      "metadata": {
        "id": "vYlj3r3ShV98",
        "outputId": "affb4dca-e732-424d-d7a9-b8d89fad595d",
        "colab": {
          "base_uri": "https://localhost:8080/"
        }
      },
      "execution_count": 104,
      "outputs": [
        {
          "output_type": "stream",
          "name": "stdout",
          "text": [
            "int64\n",
            "float64\n"
          ]
        }
      ]
    },
    {
      "cell_type": "markdown",
      "source": [
        "#Завдання 6\n",
        "У даному масиві замініть елементи, які дорівнюють\\більші\\менші за var на -1"
      ],
      "metadata": {
        "id": "aR7TWyqgZUDg"
      }
    },
    {
      "cell_type": "code",
      "source": [
        "x = np.array([1, 5, 3, 8, 6, 5, 7, 4])\n",
        "var = 5\n",
        "mask = x < var\n",
        "mask2 = x > var\n",
        "mask3 = x == var\n",
        "x[mask] = -1\n",
        "x[mask2] = -1\n",
        "x[mask3] = -1\n",
        "x"
      ],
      "metadata": {
        "id": "oPzL69Fbg2Wq",
        "outputId": "dbf0499e-c74a-4372-a8b4-7e5a20770260",
        "colab": {
          "base_uri": "https://localhost:8080/"
        }
      },
      "execution_count": 105,
      "outputs": [
        {
          "output_type": "execute_result",
          "data": {
            "text/plain": [
              "array([-1, -1, -1, -1, -1, -1, -1, -1])"
            ]
          },
          "metadata": {},
          "execution_count": 105
        }
      ]
    },
    {
      "cell_type": "markdown",
      "source": [
        "#Завдання 7\n",
        "Замініть пропущені значення матриці(np.nan) на -1\n",
        "\n",
        "Дивись np.isnan"
      ],
      "metadata": {
        "id": "Ks3Rtc7kajMJ"
      }
    },
    {
      "cell_type": "code",
      "source": [
        "X = np.array([[1, 2, np.nan, 4],\n",
        "              [5, np.nan, np.nan, 4],\n",
        "              [np.nan, 10, 11, np.nan]])\n",
        "\n",
        "mask_ = np.isnan(X)\n",
        "X[mask_] = -1\n",
        "X"
      ],
      "metadata": {
        "id": "Rr8CdINEg3Rj",
        "outputId": "e0567fa8-3d76-4fcc-ab1d-6dc755a2054c",
        "colab": {
          "base_uri": "https://localhost:8080/"
        }
      },
      "execution_count": 106,
      "outputs": [
        {
          "output_type": "execute_result",
          "data": {
            "text/plain": [
              "array([[ 1.,  2., -1.,  4.],\n",
              "       [ 5., -1., -1.,  4.],\n",
              "       [-1., 10., 11., -1.]])"
            ]
          },
          "metadata": {},
          "execution_count": 106
        }
      ]
    },
    {
      "cell_type": "markdown",
      "source": [
        "#Завдання 8\n",
        "Створіть матрицю розміру 4х6 з випадковими числами. Змініть її розмір на 3х8"
      ],
      "metadata": {
        "id": "teYwjikMa0gs"
      }
    },
    {
      "cell_type": "code",
      "source": [],
      "metadata": {
        "id": "JhNvUJwxhXED"
      },
      "execution_count": null,
      "outputs": []
    },
    {
      "cell_type": "markdown",
      "source": [
        "#Завдання 9\n",
        "Створіть матрицю з одиниць розміром 3х4. Знайдіть середнє арифметичне(mean) кожного стовпчика"
      ],
      "metadata": {
        "id": "jVE8280acszi"
      }
    },
    {
      "cell_type": "code",
      "source": [
        "q = np.ones((3, 4))\n",
        "print(sum(q[:]) / len(q[:]))"
      ],
      "metadata": {
        "id": "5QI6HPNHhXd4",
        "outputId": "c65a99d8-e9ce-4d91-e347-6665a0b84551",
        "colab": {
          "base_uri": "https://localhost:8080/"
        }
      },
      "execution_count": 107,
      "outputs": [
        {
          "output_type": "stream",
          "name": "stdout",
          "text": [
            "[1. 1. 1. 1.]\n"
          ]
        }
      ]
    },
    {
      "cell_type": "markdown",
      "source": [
        "#Завдання 10\n",
        "Створіть випадкову матрицю розміром 5х6. Округліть значення до одного знаку після коми(np.round). Розмістіть стовпчики так, щоб значення в першому рядку були відсортовані за зростанням"
      ],
      "metadata": {
        "id": "nK6LwLjfc9aC"
      }
    },
    {
      "cell_type": "code",
      "source": [
        "z = np.random.random((5, 6))\n",
        "z = np.round(z, 1)\n",
        "z[0] = sorted(z[0])\n",
        "z"
      ],
      "metadata": {
        "id": "pERBNp12hX58",
        "outputId": "70cc369b-1242-4ab3-9844-4fc149b29963",
        "colab": {
          "base_uri": "https://localhost:8080/"
        }
      },
      "execution_count": 109,
      "outputs": [
        {
          "output_type": "execute_result",
          "data": {
            "text/plain": [
              "array([[0. , 0.1, 0.2, 0.6, 0.8, 0.9],\n",
              "       [0.5, 0.3, 0.3, 0.9, 0.2, 0.9],\n",
              "       [0.9, 0.4, 0.9, 0.8, 0.7, 0.1],\n",
              "       [0.6, 0.1, 0.7, 0.9, 0.8, 1. ],\n",
              "       [0.6, 0.4, 0.1, 0.8, 0.7, 0.5]])"
            ]
          },
          "metadata": {},
          "execution_count": 109
        }
      ]
    },
    {
      "cell_type": "markdown",
      "source": [
        "#Завдання 11\n",
        "В даній матриці знайдіть всі елементи зі значенням між 3 і 6\n",
        "\n",
        "Дивись документацію np.logical_and"
      ],
      "metadata": {
        "id": "faCqq4bxiXsg"
      }
    },
    {
      "cell_type": "code",
      "source": [
        "X = np.array([[1, 2, 3, 4, 5],\n",
        "              [6, 7, 8, 9, 10],\n",
        "              [9, 8, 7, 6, 5],\n",
        "              [4, 3, 2, 1, 0]])\n",
        "\n",
        "mask_1 = np.logical_and(X > 3, X < 6)\n",
        "X[mask_1]"
      ],
      "metadata": {
        "id": "01ZY_c-tilOF",
        "outputId": "b88026f2-f69c-47bd-9b30-a8bacc5c00d9",
        "colab": {
          "base_uri": "https://localhost:8080/"
        }
      },
      "execution_count": 114,
      "outputs": [
        {
          "output_type": "execute_result",
          "data": {
            "text/plain": [
              "array([4, 5, 5, 4])"
            ]
          },
          "metadata": {},
          "execution_count": 114
        }
      ]
    },
    {
      "cell_type": "markdown",
      "source": [
        "#Завдання 12\n",
        "Створіть випадкову матрицю розміру 5х6. Нормалізуйте стовпчики: від кожного елемента ставпчика відніміть мінімальне значення та поділіть результат на різницю між максимальним та мінімальним елементом.\n",
        "\n",
        "Після цього всі значення мають бути в межах [0, 1]"
      ],
      "metadata": {
        "id": "cCZSaa3DMKxb"
      }
    },
    {
      "cell_type": "code",
      "source": [
        "v = np.random.randint(0, 100, size=(5, 6))\n",
        "v = (v - np.min(v)) / (np.max(v) - np.min(v))\n",
        "v"
      ],
      "metadata": {
        "id": "qnOYOAgOMqRi",
        "outputId": "7fa8bea8-cd66-43fd-ecef-49418bd05b5d",
        "colab": {
          "base_uri": "https://localhost:8080/"
        }
      },
      "execution_count": 146,
      "outputs": [
        {
          "output_type": "execute_result",
          "data": {
            "text/plain": [
              "array([[0.62244898, 0.58163265, 0.15306122, 0.13265306, 0.        ,\n",
              "        0.43877551],\n",
              "       [0.51020408, 0.85714286, 1.        , 0.09183673, 0.3877551 ,\n",
              "        0.56122449],\n",
              "       [0.21428571, 0.39795918, 0.91836735, 0.18367347, 0.17346939,\n",
              "        0.17346939],\n",
              "       [0.34693878, 0.06122449, 0.10204082, 0.73469388, 0.26530612,\n",
              "        0.        ],\n",
              "       [0.89795918, 0.15306122, 0.42857143, 0.25510204, 0.30612245,\n",
              "        0.13265306]])"
            ]
          },
          "metadata": {},
          "execution_count": 146
        }
      ]
    }
  ]
}